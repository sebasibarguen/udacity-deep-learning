{
 "cells": [
  {
   "cell_type": "markdown",
   "metadata": {
    "collapsed": true
   },
   "source": [
    "# Language Translation\n",
    "In this project, you’re going to take a peek into the realm of neural network machine translation.  You’ll be training a sequence to sequence model on a dataset of English and French sentences that can translate new sentences from English to French.\n",
    "## Get the Data\n",
    "Since translating the whole language of English to French will take lots of time to train, we have provided you with a small portion of the English corpus."
   ]
  },
  {
   "cell_type": "code",
   "execution_count": 1,
   "metadata": {
    "collapsed": true
   },
   "outputs": [],
   "source": [
    "\"\"\"\n",
    "DON'T MODIFY ANYTHING IN THIS CELL\n",
    "\"\"\"\n",
    "import helper\n",
    "import problem_unittests as tests\n",
    "\n",
    "source_path = 'data/small_vocab_en'\n",
    "target_path = 'data/small_vocab_fr'\n",
    "source_text = helper.load_data(source_path)\n",
    "target_text = helper.load_data(target_path)"
   ]
  },
  {
   "cell_type": "markdown",
   "metadata": {},
   "source": [
    "## Explore the Data\n",
    "Play around with view_sentence_range to view different parts of the data."
   ]
  },
  {
   "cell_type": "code",
   "execution_count": 2,
   "metadata": {},
   "outputs": [
    {
     "name": "stdout",
     "output_type": "stream",
     "text": [
      "Dataset Stats\n",
      "Roughly the number of unique words: 227\n",
      "Number of sentences: 137861\n",
      "Average number of words in a sentence: 13.225277634719028\n",
      "\n",
      "English sentences 0 to 10:\n",
      "new jersey is sometimes quiet during autumn , and it is snowy in april .\n",
      "the united states is usually chilly during july , and it is usually freezing in november .\n",
      "california is usually quiet during march , and it is usually hot in june .\n",
      "the united states is sometimes mild during june , and it is cold in september .\n",
      "your least liked fruit is the grape , but my least liked is the apple .\n",
      "his favorite fruit is the orange , but my favorite is the grape .\n",
      "paris is relaxing during december , but it is usually chilly in july .\n",
      "new jersey is busy during spring , and it is never hot in march .\n",
      "our least liked fruit is the lemon , but my least liked is the grape .\n",
      "the united states is sometimes busy during january , and it is sometimes warm in november .\n",
      "\n",
      "French sentences 0 to 10:\n",
      "new jersey est parfois calme pendant l' automne , et il est neigeux en avril .\n",
      "les états-unis est généralement froid en juillet , et il gèle habituellement en novembre .\n",
      "california est généralement calme en mars , et il est généralement chaud en juin .\n",
      "les états-unis est parfois légère en juin , et il fait froid en septembre .\n",
      "votre moins aimé fruit est le raisin , mais mon moins aimé est la pomme .\n",
      "son fruit préféré est l'orange , mais mon préféré est le raisin .\n",
      "paris est relaxant en décembre , mais il est généralement froid en juillet .\n",
      "new jersey est occupé au printemps , et il est jamais chaude en mars .\n",
      "notre fruit est moins aimé le citron , mais mon moins aimé est le raisin .\n",
      "les états-unis est parfois occupé en janvier , et il est parfois chaud en novembre .\n"
     ]
    }
   ],
   "source": [
    "view_sentence_range = (0, 10)\n",
    "\n",
    "\"\"\"\n",
    "DON'T MODIFY ANYTHING IN THIS CELL\n",
    "\"\"\"\n",
    "import numpy as np\n",
    "\n",
    "print('Dataset Stats')\n",
    "print('Roughly the number of unique words: {}'.format(len({word: None for word in source_text.split()})))\n",
    "\n",
    "sentences = source_text.split('\\n')\n",
    "word_counts = [len(sentence.split()) for sentence in sentences]\n",
    "print('Number of sentences: {}'.format(len(sentences)))\n",
    "print('Average number of words in a sentence: {}'.format(np.average(word_counts)))\n",
    "\n",
    "print()\n",
    "print('English sentences {} to {}:'.format(*view_sentence_range))\n",
    "print('\\n'.join(source_text.split('\\n')[view_sentence_range[0]:view_sentence_range[1]]))\n",
    "print()\n",
    "print('French sentences {} to {}:'.format(*view_sentence_range))\n",
    "print('\\n'.join(target_text.split('\\n')[view_sentence_range[0]:view_sentence_range[1]]))"
   ]
  },
  {
   "cell_type": "markdown",
   "metadata": {},
   "source": [
    "## Implement Preprocessing Function\n",
    "### Text to Word Ids\n",
    "As you did with other RNNs, you must turn the text into a number so the computer can understand it. In the function `text_to_ids()`, you'll turn `source_text` and `target_text` from words to ids.  However, you need to add the `<EOS>` word id at the end of `target_text`.  This will help the neural network predict when the sentence should end.\n",
    "\n",
    "You can get the `<EOS>` word id by doing:\n",
    "```python\n",
    "target_vocab_to_int['<EOS>']\n",
    "```\n",
    "You can get other word ids using `source_vocab_to_int` and `target_vocab_to_int`."
   ]
  },
  {
   "cell_type": "code",
   "execution_count": 43,
   "metadata": {},
   "outputs": [
    {
     "name": "stdout",
     "output_type": "stream",
     "text": [
      "[[11, 10, 25, 28, 20, 5, 23, 16, 32, 22, 25, 30, 26, 27, 6], [24, 12, 9, 25, 21, 19, 5, 31, 16, 32, 22, 25, 21, 17, 26, 7, 6], [8, 25, 21, 20, 5, 15, 16, 32, 22, 25, 21, 13, 26, 29, 6], [24, 12, 9, 25, 28, 14, 5, 29, 16, 32, 22, 25, 4, 26, 18, 6]]\n",
      "[[12, 10, 15, 32, 31, 28, 11, 16, 20, 19, 29, 15, 21, 9, 13, 6, 1], [24, 4, 15, 8, 17, 9, 30, 20, 19, 29, 23, 14, 9, 25, 6, 1], [7, 15, 8, 31, 9, 33, 20, 19, 29, 15, 8, 26, 9, 27, 6, 1], [24, 4, 15, 32, 22, 9, 27, 20, 19, 29, 5, 17, 9, 18, 6, 1]]\n",
      "Tests Passed\n"
     ]
    }
   ],
   "source": [
    "def text_to_ids(source_text, target_text, source_vocab_to_int, target_vocab_to_int):\n",
    "    \"\"\"\n",
    "    Convert source and target text to proper word ids\n",
    "    :param source_text: String that contains all the source text.\n",
    "    :param target_text: String that contains all the target text.\n",
    "    :param source_vocab_to_int: Dictionary to go from the source words to an id\n",
    "    :param target_vocab_to_int: Dictionary to go from the target words to an id\n",
    "    :return: A tuple of lists (source_id_text, target_id_text)\n",
    "    \"\"\"\n",
    "    \n",
    "    source_id_text = [[source_vocab_to_int[w] for w in s.split()] for s in source_text.split('\\n')] \n",
    "    target_id_text = [[target_vocab_to_int[w] for w in s.split()] for s in target_text.split('\\n')]\n",
    "    \n",
    "    for sentence_vector in target_id_text:\n",
    "        sentence_vector.append(target_vocab_to_int['<EOS>'])\n",
    "    \n",
    "    print(source_id_text)\n",
    "    print(target_id_text)\n",
    "    return source_id_text, target_id_text\n",
    "\n",
    "\"\"\"\n",
    "DON'T MODIFY ANYTHING IN THIS CELL THAT IS BELOW THIS LINE\n",
    "\"\"\"\n",
    "tests.test_text_to_ids(text_to_ids)"
   ]
  },
  {
   "cell_type": "markdown",
   "metadata": {},
   "source": [
    "### Preprocess all the data and save it\n",
    "Running the code cell below will preprocess all the data and save it to file."
   ]
  },
  {
   "cell_type": "code",
   "execution_count": 4,
   "metadata": {
    "collapsed": true
   },
   "outputs": [],
   "source": [
    "\"\"\"\n",
    "DON'T MODIFY ANYTHING IN THIS CELL\n",
    "\"\"\"\n",
    "helper.preprocess_and_save_data(source_path, target_path, text_to_ids)"
   ]
  },
  {
   "cell_type": "markdown",
   "metadata": {},
   "source": [
    "# Check Point\n",
    "This is your first checkpoint. If you ever decide to come back to this notebook or have to restart the notebook, you can start from here. The preprocessed data has been saved to disk."
   ]
  },
  {
   "cell_type": "code",
   "execution_count": 5,
   "metadata": {
    "collapsed": true
   },
   "outputs": [],
   "source": [
    "\"\"\"\n",
    "DON'T MODIFY ANYTHING IN THIS CELL\n",
    "\"\"\"\n",
    "import numpy as np\n",
    "import helper\n",
    "import problem_unittests as tests\n",
    "\n",
    "(source_int_text, target_int_text), (source_vocab_to_int, target_vocab_to_int), _ = helper.load_preprocess()"
   ]
  },
  {
   "cell_type": "markdown",
   "metadata": {},
   "source": [
    "### Check the Version of TensorFlow and Access to GPU\n",
    "This will check to make sure you have the correct version of TensorFlow and access to a GPU"
   ]
  },
  {
   "cell_type": "code",
   "execution_count": 6,
   "metadata": {},
   "outputs": [
    {
     "name": "stdout",
     "output_type": "stream",
     "text": [
      "TensorFlow Version: 1.2.0\n",
      "Default GPU Device: /gpu:0\n"
     ]
    }
   ],
   "source": [
    "\"\"\"\n",
    "DON'T MODIFY ANYTHING IN THIS CELL\n",
    "\"\"\"\n",
    "from distutils.version import LooseVersion\n",
    "import warnings\n",
    "import tensorflow as tf\n",
    "from tensorflow.python.layers.core import Dense\n",
    "\n",
    "# Check TensorFlow Version\n",
    "assert LooseVersion(tf.__version__) >= LooseVersion('1.1'), 'Please use TensorFlow version 1.1 or newer'\n",
    "print('TensorFlow Version: {}'.format(tf.__version__))\n",
    "\n",
    "# Check for a GPU\n",
    "if not tf.test.gpu_device_name():\n",
    "    warnings.warn('No GPU found. Please use a GPU to train your neural network.')\n",
    "else:\n",
    "    print('Default GPU Device: {}'.format(tf.test.gpu_device_name()))"
   ]
  },
  {
   "cell_type": "markdown",
   "metadata": {},
   "source": [
    "## Build the Neural Network\n",
    "You'll build the components necessary to build a Sequence-to-Sequence model by implementing the following functions below:\n",
    "- `model_inputs`\n",
    "- `process_decoder_input`\n",
    "- `encoding_layer`\n",
    "- `decoding_layer_train`\n",
    "- `decoding_layer_infer`\n",
    "- `decoding_layer`\n",
    "- `seq2seq_model`\n",
    "\n",
    "### Input\n",
    "Implement the `model_inputs()` function to create TF Placeholders for the Neural Network. It should create the following placeholders:\n",
    "\n",
    "- Input text placeholder named \"input\" using the TF Placeholder name parameter with rank 2.\n",
    "- Targets placeholder with rank 2.\n",
    "- Learning rate placeholder with rank 0.\n",
    "- Keep probability placeholder named \"keep_prob\" using the TF Placeholder name parameter with rank 0.\n",
    "- Target sequence length placeholder named \"target_sequence_length\" with rank 1\n",
    "- Max target sequence length tensor named \"max_target_len\" getting its value from applying tf.reduce_max on the target_sequence_length placeholder. Rank 0.\n",
    "- Source sequence length placeholder named \"source_sequence_length\" with rank 1\n",
    "\n",
    "Return the placeholders in the following the tuple (input, targets, learning rate, keep probability, target sequence length, max target sequence length, source sequence length)"
   ]
  },
  {
   "cell_type": "code",
   "execution_count": 55,
   "metadata": {},
   "outputs": [
    {
     "name": "stdout",
     "output_type": "stream",
     "text": [
      "ERROR:tensorflow:==================================\n",
      "Object was never used (type <class 'tensorflow.python.framework.ops.Operation'>):\n",
      "<tf.Operation 'assert_rank_2/Assert/Assert' type=Assert>\n",
      "If you want to mark it as used call its \"mark_used()\" method.\n",
      "It was originally created here:\n",
      "['File \"/usr/lib/python3.5/runpy.py\", line 184, in _run_module_as_main\\n    \"__main__\", mod_spec)', 'File \"/usr/lib/python3.5/runpy.py\", line 85, in _run_code\\n    exec(code, run_globals)', 'File \"/usr/local/lib/python3.5/dist-packages/ipykernel_launcher.py\", line 16, in <module>\\n    app.launch_new_instance()', 'File \"/usr/local/lib/python3.5/dist-packages/traitlets/config/application.py\", line 658, in launch_instance\\n    app.start()', 'File \"/usr/local/lib/python3.5/dist-packages/ipykernel/kernelapp.py\", line 477, in start\\n    ioloop.IOLoop.instance().start()', 'File \"/usr/local/lib/python3.5/dist-packages/zmq/eventloop/ioloop.py\", line 177, in start\\n    super(ZMQIOLoop, self).start()', 'File \"/usr/local/lib/python3.5/dist-packages/tornado/ioloop.py\", line 888, in start\\n    handler_func(fd_obj, events)', 'File \"/usr/local/lib/python3.5/dist-packages/tornado/stack_context.py\", line 277, in null_wrapper\\n    return fn(*args, **kwargs)', 'File \"/usr/local/lib/python3.5/dist-packages/zmq/eventloop/zmqstream.py\", line 440, in _handle_events\\n    self._handle_recv()', 'File \"/usr/local/lib/python3.5/dist-packages/zmq/eventloop/zmqstream.py\", line 472, in _handle_recv\\n    self._run_callback(callback, msg)', 'File \"/usr/local/lib/python3.5/dist-packages/zmq/eventloop/zmqstream.py\", line 414, in _run_callback\\n    callback(*args, **kwargs)', 'File \"/usr/local/lib/python3.5/dist-packages/tornado/stack_context.py\", line 277, in null_wrapper\\n    return fn(*args, **kwargs)', 'File \"/usr/local/lib/python3.5/dist-packages/ipykernel/kernelbase.py\", line 283, in dispatcher\\n    return self.dispatch_shell(stream, msg)', 'File \"/usr/local/lib/python3.5/dist-packages/ipykernel/kernelbase.py\", line 235, in dispatch_shell\\n    handler(stream, idents, msg)', 'File \"/usr/local/lib/python3.5/dist-packages/ipykernel/kernelbase.py\", line 399, in execute_request\\n    user_expressions, allow_stdin)', 'File \"/usr/local/lib/python3.5/dist-packages/ipykernel/ipkernel.py\", line 196, in do_execute\\n    res = shell.run_cell(code, store_history=store_history, silent=silent)', 'File \"/usr/local/lib/python3.5/dist-packages/ipykernel/zmqshell.py\", line 533, in run_cell\\n    return super(ZMQInteractiveShell, self).run_cell(*args, **kwargs)', 'File \"/usr/local/lib/python3.5/dist-packages/IPython/core/interactiveshell.py\", line 2698, in run_cell\\n    interactivity=interactivity, compiler=compiler, result=result)', 'File \"/usr/local/lib/python3.5/dist-packages/IPython/core/interactiveshell.py\", line 2808, in run_ast_nodes\\n    if self.run_code(code, result):', 'File \"/usr/local/lib/python3.5/dist-packages/IPython/core/interactiveshell.py\", line 2862, in run_code\\n    exec(code_obj, self.user_global_ns, self.user_ns)', 'File \"<ipython-input-55-e367b7410803>\", line 21, in <module>\\n    tests.test_model_inputs(model_inputs)', 'File \"/notebooks/udacity-deep-learning/language-translation/problem_unittests.py\", line 106, in test_model_inputs\\n    assert tf.assert_rank(lr, 0, message=\\'Learning Rate has wrong rank\\')', 'File \"/usr/local/lib/python3.5/dist-packages/tensorflow/python/ops/check_ops.py\", line 617, in assert_rank\\n    dynamic_condition, data, summarize)', 'File \"/usr/local/lib/python3.5/dist-packages/tensorflow/python/ops/check_ops.py\", line 571, in _assert_rank_condition\\n    return control_flow_ops.Assert(condition, data, summarize=summarize)', 'File \"/usr/local/lib/python3.5/dist-packages/tensorflow/python/util/tf_should_use.py\", line 170, in wrapped\\n    return _add_should_use_warning(fn(*args, **kwargs))', 'File \"/usr/local/lib/python3.5/dist-packages/tensorflow/python/util/tf_should_use.py\", line 139, in _add_should_use_warning\\n    wrapped = TFShouldUseWarningWrapper(x)', 'File \"/usr/local/lib/python3.5/dist-packages/tensorflow/python/util/tf_should_use.py\", line 96, in __init__\\n    stack = [s.strip() for s in traceback.format_stack()]']\n",
      "==================================\n",
      "ERROR:tensorflow:==================================\n",
      "Object was never used (type <class 'tensorflow.python.framework.ops.Operation'>):\n",
      "<tf.Operation 'assert_rank_3/Assert/Assert' type=Assert>\n",
      "If you want to mark it as used call its \"mark_used()\" method.\n",
      "It was originally created here:\n",
      "['File \"/usr/lib/python3.5/runpy.py\", line 184, in _run_module_as_main\\n    \"__main__\", mod_spec)', 'File \"/usr/lib/python3.5/runpy.py\", line 85, in _run_code\\n    exec(code, run_globals)', 'File \"/usr/local/lib/python3.5/dist-packages/ipykernel_launcher.py\", line 16, in <module>\\n    app.launch_new_instance()', 'File \"/usr/local/lib/python3.5/dist-packages/traitlets/config/application.py\", line 658, in launch_instance\\n    app.start()', 'File \"/usr/local/lib/python3.5/dist-packages/ipykernel/kernelapp.py\", line 477, in start\\n    ioloop.IOLoop.instance().start()', 'File \"/usr/local/lib/python3.5/dist-packages/zmq/eventloop/ioloop.py\", line 177, in start\\n    super(ZMQIOLoop, self).start()', 'File \"/usr/local/lib/python3.5/dist-packages/tornado/ioloop.py\", line 888, in start\\n    handler_func(fd_obj, events)', 'File \"/usr/local/lib/python3.5/dist-packages/tornado/stack_context.py\", line 277, in null_wrapper\\n    return fn(*args, **kwargs)', 'File \"/usr/local/lib/python3.5/dist-packages/zmq/eventloop/zmqstream.py\", line 440, in _handle_events\\n    self._handle_recv()', 'File \"/usr/local/lib/python3.5/dist-packages/zmq/eventloop/zmqstream.py\", line 472, in _handle_recv\\n    self._run_callback(callback, msg)', 'File \"/usr/local/lib/python3.5/dist-packages/zmq/eventloop/zmqstream.py\", line 414, in _run_callback\\n    callback(*args, **kwargs)', 'File \"/usr/local/lib/python3.5/dist-packages/tornado/stack_context.py\", line 277, in null_wrapper\\n    return fn(*args, **kwargs)', 'File \"/usr/local/lib/python3.5/dist-packages/ipykernel/kernelbase.py\", line 283, in dispatcher\\n    return self.dispatch_shell(stream, msg)', 'File \"/usr/local/lib/python3.5/dist-packages/ipykernel/kernelbase.py\", line 235, in dispatch_shell\\n    handler(stream, idents, msg)', 'File \"/usr/local/lib/python3.5/dist-packages/ipykernel/kernelbase.py\", line 399, in execute_request\\n    user_expressions, allow_stdin)', 'File \"/usr/local/lib/python3.5/dist-packages/ipykernel/ipkernel.py\", line 196, in do_execute\\n    res = shell.run_cell(code, store_history=store_history, silent=silent)', 'File \"/usr/local/lib/python3.5/dist-packages/ipykernel/zmqshell.py\", line 533, in run_cell\\n    return super(ZMQInteractiveShell, self).run_cell(*args, **kwargs)', 'File \"/usr/local/lib/python3.5/dist-packages/IPython/core/interactiveshell.py\", line 2698, in run_cell\\n    interactivity=interactivity, compiler=compiler, result=result)', 'File \"/usr/local/lib/python3.5/dist-packages/IPython/core/interactiveshell.py\", line 2808, in run_ast_nodes\\n    if self.run_code(code, result):', 'File \"/usr/local/lib/python3.5/dist-packages/IPython/core/interactiveshell.py\", line 2862, in run_code\\n    exec(code_obj, self.user_global_ns, self.user_ns)', 'File \"<ipython-input-55-e367b7410803>\", line 21, in <module>\\n    tests.test_model_inputs(model_inputs)', 'File \"/notebooks/udacity-deep-learning/language-translation/problem_unittests.py\", line 107, in test_model_inputs\\n    assert tf.assert_rank(keep_prob, 0, message=\\'Keep Probability has wrong rank\\')', 'File \"/usr/local/lib/python3.5/dist-packages/tensorflow/python/ops/check_ops.py\", line 617, in assert_rank\\n    dynamic_condition, data, summarize)', 'File \"/usr/local/lib/python3.5/dist-packages/tensorflow/python/ops/check_ops.py\", line 571, in _assert_rank_condition\\n    return control_flow_ops.Assert(condition, data, summarize=summarize)', 'File \"/usr/local/lib/python3.5/dist-packages/tensorflow/python/util/tf_should_use.py\", line 170, in wrapped\\n    return _add_should_use_warning(fn(*args, **kwargs))', 'File \"/usr/local/lib/python3.5/dist-packages/tensorflow/python/util/tf_should_use.py\", line 139, in _add_should_use_warning\\n    wrapped = TFShouldUseWarningWrapper(x)', 'File \"/usr/local/lib/python3.5/dist-packages/tensorflow/python/util/tf_should_use.py\", line 96, in __init__\\n    stack = [s.strip() for s in traceback.format_stack()]']\n",
      "==================================\n"
     ]
    },
    {
     "name": "stdout",
     "output_type": "stream",
     "text": [
      "Tests Passed\n"
     ]
    }
   ],
   "source": [
    "def model_inputs():\n",
    "    \"\"\"\n",
    "    Create TF Placeholders for input, targets, learning rate, and lengths of source and target sequences.\n",
    "    :return: Tuple (input, targets, learning rate, keep probability, target sequence length,\n",
    "    max target sequence length, source sequence length)\n",
    "    \"\"\"\n",
    "    \n",
    "    inputs = tf.placeholder(tf.int32, [None, None], name='input')\n",
    "    targets = tf.placeholder(tf.int32, [None, None], name='targets')\n",
    "    lr = tf.placeholder(tf.float32, name='learning_rate')\n",
    "    keep_prob = tf.placeholder(tf.float32, name='keep_prob')\n",
    "    target_sequence_length = tf.placeholder(tf.int32, [None], name='target_sequence_length')\n",
    "    max_target_len = tf.reduce_max(target_sequence_length, name='max_target_len')\n",
    "    source_sequence_length = tf.placeholder(tf.int32, [None], name='source_sequence_length')\n",
    "    return inputs, targets, lr, keep_prob, target_sequence_length, max_target_len, source_sequence_length\n",
    "\n",
    "\n",
    "\"\"\"\n",
    "DON'T MODIFY ANYTHING IN THIS CELL THAT IS BELOW THIS LINE\n",
    "\"\"\"\n",
    "tests.test_model_inputs(model_inputs)"
   ]
  },
  {
   "cell_type": "markdown",
   "metadata": {},
   "source": [
    "### Process Decoder Input\n",
    "Implement `process_decoder_input` by removing the last word id from each batch in `target_data` and concat the GO ID to the begining of each batch."
   ]
  },
  {
   "cell_type": "code",
   "execution_count": 96,
   "metadata": {},
   "outputs": [
    {
     "name": "stdout",
     "output_type": "stream",
     "text": [
      "Tests Passed\n"
     ]
    }
   ],
   "source": [
    "def process_decoder_input(target_data, target_vocab_to_int, batch_size):\n",
    "    \"\"\"\n",
    "    Preprocess target data for encoding\n",
    "    :param target_data: Target Placehoder\n",
    "    :param target_vocab_to_int: Dictionary to go from the target words to an id\n",
    "    :param batch_size: Batch Size\n",
    "    :return: Preprocessed target data\n",
    "    \"\"\"\n",
    "    \n",
    "    go = target_vocab_to_int['<GO>']\n",
    "    \n",
    "    target_batches = tf.strided_slice(target_data, [0, 0], [batch_size, -1], [1, 1])\n",
    "    dec_input = tf.concat([tf.fill([batch_size, 1], go), target_batches], 1)\n",
    "        \n",
    "    return dec_input\n",
    "\n",
    "\"\"\"\n",
    "DON'T MODIFY ANYTHING IN THIS CELL THAT IS BELOW THIS LINE\n",
    "\"\"\"\n",
    "tests.test_process_encoding_input(process_decoder_input)"
   ]
  },
  {
   "cell_type": "markdown",
   "metadata": {},
   "source": [
    "### Encoding\n",
    "Implement `encoding_layer()` to create a Encoder RNN layer:\n",
    " * Embed the encoder input using [`tf.contrib.layers.embed_sequence`](https://www.tensorflow.org/api_docs/python/tf/contrib/layers/embed_sequence)\n",
    " * Construct a [stacked](https://github.com/tensorflow/tensorflow/blob/6947f65a374ebf29e74bb71e36fd82760056d82c/tensorflow/docs_src/tutorials/recurrent.md#stacking-multiple-lstms) [`tf.contrib.rnn.LSTMCell`](https://www.tensorflow.org/api_docs/python/tf/contrib/rnn/LSTMCell) wrapped in a [`tf.contrib.rnn.DropoutWrapper`](https://www.tensorflow.org/api_docs/python/tf/contrib/rnn/DropoutWrapper)\n",
    " * Pass cell and embedded input to [`tf.nn.dynamic_rnn()`](https://www.tensorflow.org/api_docs/python/tf/nn/dynamic_rnn)"
   ]
  },
  {
   "cell_type": "code",
   "execution_count": 106,
   "metadata": {
    "scrolled": false
   },
   "outputs": [
    {
     "name": "stdout",
     "output_type": "stream",
     "text": [
      "Tests Passed\n"
     ]
    }
   ],
   "source": [
    "from imp import reload\n",
    "reload(tests)\n",
    "\n",
    "def build_lstm(rnn_size, keep_prob):\n",
    "    lstm = tf.contrib.rnn.LSTMCell(rnn_size, initializer=tf.random_uniform_initializer(-0.1, 0.1, seed=2))\n",
    "    drop = tf.contrib.rnn.DropoutWrapper(lstm, output_keep_prob=keep_prob)\n",
    "    return drop\n",
    "\n",
    "def encoding_layer(rnn_inputs, rnn_size, num_layers, keep_prob, \n",
    "                   source_sequence_length, source_vocab_size, \n",
    "                   encoding_embedding_size):\n",
    "    \"\"\"\n",
    "    Create encoding layer\n",
    "    :param rnn_inputs: Inputs for the RNN\n",
    "    :param rnn_size: RNN Size\n",
    "    :param num_layers: Number of layers\n",
    "    :param keep_prob: Dropout keep probability\n",
    "    :param source_sequence_length: a list of the lengths of each sequence in the batch\n",
    "    :param source_vocab_size: vocabulary size of source data\n",
    "    :param encoding_embedding_size: embedding size of source data\n",
    "    :return: tuple (RNN output, RNN state)\n",
    "    \"\"\"\n",
    "    \n",
    "    embed = tf.contrib.layers.embed_sequence(rnn_inputs, \n",
    "                                             vocab_size=source_vocab_size, \n",
    "                                             embed_dim=encoding_embedding_size)\n",
    "    \n",
    "    cell = tf.contrib.rnn.MultiRNNCell(\n",
    "        [build_lstm(rnn_size, keep_prob) for _ in range(num_layers)]\n",
    "    )\n",
    "\n",
    "    output, state = tf.nn.dynamic_rnn(cell, embed, sequence_length=source_sequence_length, dtype=tf.float32)\n",
    "    \n",
    "    return output, state\n",
    "\n",
    "\"\"\"\n",
    "DON'T MODIFY ANYTHING IN THIS CELL THAT IS BELOW THIS LINE\n",
    "\"\"\"\n",
    "tests.test_encoding_layer(encoding_layer)"
   ]
  },
  {
   "cell_type": "markdown",
   "metadata": {},
   "source": [
    "### Decoding - Training\n",
    "Create a training decoding layer:\n",
    "* Create a [`tf.contrib.seq2seq.TrainingHelper`](https://www.tensorflow.org/api_docs/python/tf/contrib/seq2seq/TrainingHelper) \n",
    "* Create a [`tf.contrib.seq2seq.BasicDecoder`](https://www.tensorflow.org/api_docs/python/tf/contrib/seq2seq/BasicDecoder)\n",
    "* Obtain the decoder outputs from [`tf.contrib.seq2seq.dynamic_decode`](https://www.tensorflow.org/api_docs/python/tf/contrib/seq2seq/dynamic_decode)"
   ]
  },
  {
   "cell_type": "code",
   "execution_count": 115,
   "metadata": {},
   "outputs": [
    {
     "name": "stdout",
     "output_type": "stream",
     "text": [
      "Tests Passed\n"
     ]
    }
   ],
   "source": [
    "\n",
    "def decoding_layer_train(encoder_state, dec_cell, dec_embed_input, \n",
    "                         target_sequence_length, max_summary_length, \n",
    "                         output_layer, keep_prob):\n",
    "    \"\"\"\n",
    "    Create a decoding layer for training\n",
    "    :param encoder_state: Encoder State\n",
    "    :param dec_cell: Decoder RNN Cell\n",
    "    :param dec_embed_input: Decoder embedded input\n",
    "    :param target_sequence_length: The lengths of each sequence in the target batch\n",
    "    :param max_summary_length: The length of the longest sequence in the batch\n",
    "    :param output_layer: Function to apply the output layer\n",
    "    :param keep_prob: Dropout keep probability\n",
    "    :return: BasicDecoderOutput containing training logits and sample_id\n",
    "    \"\"\"\n",
    "    helper = tf.contrib.seq2seq.TrainingHelper(dec_embed_input, target_sequence_length)\n",
    "    decoder = tf.contrib.seq2seq.BasicDecoder(dec_cell, helper, encoder_state, output_layer)\n",
    "    final_outputs, final_state, _ = tf.contrib.seq2seq.dynamic_decode(decoder, \n",
    "                                                                      impute_finished=True, \n",
    "                                                                      maximum_iterations=max_summary_length)\n",
    "    \n",
    "    return final_outputs\n",
    "\n",
    "\n",
    "\n",
    "\"\"\"\n",
    "DON'T MODIFY ANYTHING IN THIS CELL THAT IS BELOW THIS LINE\n",
    "\"\"\"\n",
    "tests.test_decoding_layer_train(decoding_layer_train)"
   ]
  },
  {
   "cell_type": "markdown",
   "metadata": {},
   "source": [
    "### Decoding - Inference\n",
    "Create inference decoder:\n",
    "* Create a [`tf.contrib.seq2seq.GreedyEmbeddingHelper`](https://www.tensorflow.org/api_docs/python/tf/contrib/seq2seq/GreedyEmbeddingHelper)\n",
    "* Create a [`tf.contrib.seq2seq.BasicDecoder`](https://www.tensorflow.org/api_docs/python/tf/contrib/seq2seq/BasicDecoder)\n",
    "* Obtain the decoder outputs from [`tf.contrib.seq2seq.dynamic_decode`](https://www.tensorflow.org/api_docs/python/tf/contrib/seq2seq/dynamic_decode)"
   ]
  },
  {
   "cell_type": "code",
   "execution_count": 149,
   "metadata": {
    "scrolled": true
   },
   "outputs": [
    {
     "name": "stdout",
     "output_type": "stream",
     "text": [
      "Tests Passed\n"
     ]
    }
   ],
   "source": [
    "def decoding_layer_infer(encoder_state, dec_cell, dec_embeddings, start_of_sequence_id,\n",
    "                         end_of_sequence_id, max_target_sequence_length,\n",
    "                         vocab_size, output_layer, batch_size, keep_prob):\n",
    "    \"\"\"\n",
    "    Create a decoding layer for inference\n",
    "    :param encoder_state: Encoder state\n",
    "    :param dec_cell: Decoder RNN Cell\n",
    "    :param dec_embeddings: Decoder embeddings\n",
    "    :param start_of_sequence_id: GO ID\n",
    "    :param end_of_sequence_id: EOS Id\n",
    "    :param max_target_sequence_length: Maximum length of target sequences\n",
    "    :param vocab_size: Size of decoder/target vocabulary\n",
    "    :param decoding_scope: TenorFlow Variable Scope for decoding\n",
    "    :param output_layer: Function to apply the output layer\n",
    "    :param batch_size: Batch size\n",
    "    :param keep_prob: Dropout keep probability\n",
    "    :return: BasicDecoderOutput containing inference logits and sample_id\n",
    "    \"\"\"\n",
    "    start_token = tf.tile(tf.constant([start_of_sequence_id], dtype=tf.int32), [batch_size])\n",
    "    end_token = end_of_sequence_id\n",
    "    \n",
    "    helper = tf.contrib.seq2seq.GreedyEmbeddingHelper(dec_embeddings, start_token, end_token)\n",
    "    decoder = tf.contrib.seq2seq.BasicDecoder(dec_cell, helper, encoder_state, output_layer)\n",
    "    output, state, _ = tf.contrib.seq2seq.dynamic_decode(decoder,\n",
    "                                                         impute_finished=True,\n",
    "                                                        maximum_iterations=max_target_sequence_length)\n",
    "    return output\n",
    "\n",
    "\n",
    "\n",
    "\"\"\"\n",
    "DON'T MODIFY ANYTHING IN THIS CELL THAT IS BELOW THIS LINE\n",
    "\"\"\"\n",
    "tests.test_decoding_layer_infer(decoding_layer_infer)"
   ]
  },
  {
   "cell_type": "markdown",
   "metadata": {},
   "source": [
    "### Build the Decoding Layer\n",
    "Implement `decoding_layer()` to create a Decoder RNN layer.\n",
    "\n",
    "* Embed the target sequences\n",
    "* Construct the decoder LSTM cell (just like you constructed the encoder cell above)\n",
    "* Create an output layer to map the outputs of the decoder to the elements of our vocabulary\n",
    "* Use the your `decoding_layer_train(encoder_state, dec_cell, dec_embed_input, target_sequence_length, max_target_sequence_length, output_layer, keep_prob)` function to get the training logits.\n",
    "* Use your `decoding_layer_infer(encoder_state, dec_cell, dec_embeddings, start_of_sequence_id, end_of_sequence_id, max_target_sequence_length, vocab_size, output_layer, batch_size, keep_prob)` function to get the inference logits.\n",
    "\n",
    "Note: You'll need to use [tf.variable_scope](https://www.tensorflow.org/api_docs/python/tf/variable_scope) to share variables between training and inference."
   ]
  },
  {
   "cell_type": "code",
   "execution_count": 156,
   "metadata": {},
   "outputs": [
    {
     "name": "stdout",
     "output_type": "stream",
     "text": [
      "Tests Passed\n"
     ]
    }
   ],
   "source": [
    "def decoding_layer(dec_input, encoder_state,\n",
    "                   target_sequence_length, max_target_sequence_length,\n",
    "                   rnn_size,\n",
    "                   num_layers, target_vocab_to_int, target_vocab_size,\n",
    "                   batch_size, keep_prob, decoding_embedding_size):\n",
    "    \"\"\"\n",
    "    Create decoding layer\n",
    "    :param dec_input: Decoder input\n",
    "    :param encoder_state: Encoder state\n",
    "    :param target_sequence_length: The lengths of each sequence in the target batch\n",
    "    :param max_target_sequence_length: Maximum length of target sequences\n",
    "    :param rnn_size: RNN Size\n",
    "    :param num_layers: Number of layers\n",
    "    :param target_vocab_to_int: Dictionary to go from the target words to an id\n",
    "    :param target_vocab_size: Size of target vocabulary\n",
    "    :param batch_size: The size of the batch\n",
    "    :param keep_prob: Dropout keep probability\n",
    "    :param decoding_embedding_size: Decoding embedding size\n",
    "    :return: Tuple of (Training BasicDecoderOutput, Inference BasicDecoderOutput)\n",
    "    \"\"\"\n",
    "    \n",
    "    dec_embeddings = tf.Variable(tf.random_uniform([target_vocab_size, decoding_embedding_size]))\n",
    "    dec_embed_input = tf.nn.embedding_lookup(dec_embeddings, dec_input)\n",
    "\n",
    "    dec_cell = tf.contrib.rnn.MultiRNNCell(\n",
    "        [build_lstm(rnn_size, keep_prob) for _ in range(num_layers)]\n",
    "    )\n",
    "\n",
    "    output_layer = Dense(target_vocab_size, kernel_initializer = tf.truncated_normal_initializer(mean=0.0, stddev=0.1))\n",
    "    start_of_sequence_id = target_vocab_to_int['<GO>']\n",
    "    end_of_sequence_id = target_vocab_to_int['<EOS>']\n",
    "    \n",
    "    with tf.variable_scope('decode') as decoding_scope:\n",
    "        \n",
    "        \n",
    "        training_logits = decoding_layer_train(encoder_state, \n",
    "                                               dec_cell, \n",
    "                                               dec_embed_input, \n",
    "                                               target_sequence_length, \n",
    "                                               max_target_sequence_length, \n",
    "                                               output_layer, \n",
    "                                               keep_prob)\n",
    "        \n",
    "        decoding_scope.reuse_variables()\n",
    "        \n",
    "        infer_logits = decoding_layer_infer(encoder_state, \n",
    "                                            dec_cell, \n",
    "                                            dec_embeddings, \n",
    "                                            start_of_sequence_id, \n",
    "                                            end_of_sequence_id, \n",
    "                                            max_target_sequence_length, \n",
    "                                            target_vocab_size, \n",
    "                                            output_layer, \n",
    "                                            batch_size, \n",
    "                                            keep_prob)\n",
    "    \n",
    "        \n",
    "    return training_logits, infer_logits\n",
    "\n",
    "\n",
    "\n",
    "\"\"\"\n",
    "DON'T MODIFY ANYTHING IN THIS CELL THAT IS BELOW THIS LINE\n",
    "\"\"\"\n",
    "tests.test_decoding_layer(decoding_layer)"
   ]
  },
  {
   "cell_type": "markdown",
   "metadata": {},
   "source": [
    "### Build the Neural Network\n",
    "Apply the functions you implemented above to:\n",
    "\n",
    "- Encode the input using your `encoding_layer(rnn_inputs, rnn_size, num_layers, keep_prob,  source_sequence_length, source_vocab_size, encoding_embedding_size)`.\n",
    "- Process target data using your `process_decoder_input(target_data, target_vocab_to_int, batch_size)` function.\n",
    "- Decode the encoded input using your `decoding_layer(dec_input, enc_state, target_sequence_length, max_target_sentence_length, rnn_size, num_layers, target_vocab_to_int, target_vocab_size, batch_size, keep_prob, dec_embedding_size)` function."
   ]
  },
  {
   "cell_type": "code",
   "execution_count": 157,
   "metadata": {},
   "outputs": [
    {
     "name": "stdout",
     "output_type": "stream",
     "text": [
      "Tests Passed\n"
     ]
    }
   ],
   "source": [
    "def seq2seq_model(input_data, target_data, keep_prob, batch_size,\n",
    "                  source_sequence_length, target_sequence_length,\n",
    "                  max_target_sentence_length,\n",
    "                  source_vocab_size, target_vocab_size,\n",
    "                  enc_embedding_size, dec_embedding_size,\n",
    "                  rnn_size, num_layers, target_vocab_to_int):\n",
    "    \"\"\"\n",
    "    Build the Sequence-to-Sequence part of the neural network\n",
    "    :param input_data: Input placeholder\n",
    "    :param target_data: Target placeholder\n",
    "    :param keep_prob: Dropout keep probability placeholder\n",
    "    :param batch_size: Batch Size\n",
    "    :param source_sequence_length: Sequence Lengths of source sequences in the batch\n",
    "    :param target_sequence_length: Sequence Lengths of target sequences in the batch\n",
    "    :param source_vocab_size: Source vocabulary size\n",
    "    :param target_vocab_size: Target vocabulary size\n",
    "    :param enc_embedding_size: Decoder embedding size\n",
    "    :param dec_embedding_size: Encoder embedding size\n",
    "    :param rnn_size: RNN Size\n",
    "    :param num_layers: Number of layers\n",
    "    :param target_vocab_to_int: Dictionary to go from the target words to an id\n",
    "    :return: Tuple of (Training BasicDecoderOutput, Inference BasicDecoderOutput)\n",
    "    \"\"\"\n",
    "    encode_output, encode_state = encoding_layer(input_data, \n",
    "                                     rnn_size, \n",
    "                                     num_layers, \n",
    "                                     keep_prob, \n",
    "                                     source_sequence_length, \n",
    "                                     source_vocab_size, \n",
    "                                     enc_embedding_size)\n",
    "    \n",
    "    dec_input = process_decoder_input(target_data, target_vocab_to_int, batch_size)\n",
    "    \n",
    "    train_logits, infer_logits = decoding_layer(dec_input, \n",
    "                                                encode_state, \n",
    "                                                target_sequence_length, \n",
    "                                                max_target_sentence_length, \n",
    "                                                rnn_size, num_layers, \n",
    "                                                target_vocab_to_int, \n",
    "                                                target_vocab_size, \n",
    "                                                batch_size, \n",
    "                                                keep_prob, \n",
    "                                                dec_embedding_size)\n",
    "    \n",
    "    return train_logits, infer_logits\n",
    "\n",
    "\n",
    "\"\"\"\n",
    "DON'T MODIFY ANYTHING IN THIS CELL THAT IS BELOW THIS LINE\n",
    "\"\"\"\n",
    "tests.test_seq2seq_model(seq2seq_model)"
   ]
  },
  {
   "cell_type": "markdown",
   "metadata": {},
   "source": [
    "## Neural Network Training\n",
    "### Hyperparameters\n",
    "Tune the following parameters:\n",
    "\n",
    "- Set `epochs` to the number of epochs.\n",
    "- Set `batch_size` to the batch size.\n",
    "- Set `rnn_size` to the size of the RNNs.\n",
    "- Set `num_layers` to the number of layers.\n",
    "- Set `encoding_embedding_size` to the size of the embedding for the encoder.\n",
    "- Set `decoding_embedding_size` to the size of the embedding for the decoder.\n",
    "- Set `learning_rate` to the learning rate.\n",
    "- Set `keep_probability` to the Dropout keep probability\n",
    "- Set `display_step` to state how many steps between each debug output statement"
   ]
  },
  {
   "cell_type": "code",
   "execution_count": 158,
   "metadata": {
    "collapsed": true
   },
   "outputs": [],
   "source": [
    "# Number of Epochs\n",
    "epochs = 10\n",
    "# Batch Size\n",
    "batch_size = 256\n",
    "# RNN Size\n",
    "rnn_size = 128\n",
    "# Number of Layers\n",
    "num_layers = 2\n",
    "# Embedding Size\n",
    "encoding_embedding_size = 128\n",
    "decoding_embedding_size = 128\n",
    "# Learning Rate\n",
    "learning_rate = 0.001\n",
    "# Dropout Keep Probability\n",
    "keep_probability = 0.5\n",
    "display_step = 20"
   ]
  },
  {
   "cell_type": "markdown",
   "metadata": {},
   "source": [
    "### Build the Graph\n",
    "Build the graph using the neural network you implemented."
   ]
  },
  {
   "cell_type": "code",
   "execution_count": 159,
   "metadata": {
    "collapsed": true
   },
   "outputs": [],
   "source": [
    "\"\"\"\n",
    "DON'T MODIFY ANYTHING IN THIS CELL\n",
    "\"\"\"\n",
    "save_path = 'checkpoints/dev'\n",
    "(source_int_text, target_int_text), (source_vocab_to_int, target_vocab_to_int), _ = helper.load_preprocess()\n",
    "max_target_sentence_length = max([len(sentence) for sentence in source_int_text])\n",
    "\n",
    "train_graph = tf.Graph()\n",
    "with train_graph.as_default():\n",
    "    input_data, targets, lr, keep_prob, target_sequence_length, max_target_sequence_length, source_sequence_length = model_inputs()\n",
    "\n",
    "    #sequence_length = tf.placeholder_with_default(max_target_sentence_length, None, name='sequence_length')\n",
    "    input_shape = tf.shape(input_data)\n",
    "\n",
    "    train_logits, inference_logits = seq2seq_model(tf.reverse(input_data, [-1]),\n",
    "                                                   targets,\n",
    "                                                   keep_prob,\n",
    "                                                   batch_size,\n",
    "                                                   source_sequence_length,\n",
    "                                                   target_sequence_length,\n",
    "                                                   max_target_sequence_length,\n",
    "                                                   len(source_vocab_to_int),\n",
    "                                                   len(target_vocab_to_int),\n",
    "                                                   encoding_embedding_size,\n",
    "                                                   decoding_embedding_size,\n",
    "                                                   rnn_size,\n",
    "                                                   num_layers,\n",
    "                                                   target_vocab_to_int)\n",
    "\n",
    "\n",
    "    training_logits = tf.identity(train_logits.rnn_output, name='logits')\n",
    "    inference_logits = tf.identity(inference_logits.sample_id, name='predictions')\n",
    "\n",
    "    masks = tf.sequence_mask(target_sequence_length, max_target_sequence_length, dtype=tf.float32, name='masks')\n",
    "\n",
    "    with tf.name_scope(\"optimization\"):\n",
    "        # Loss function\n",
    "        cost = tf.contrib.seq2seq.sequence_loss(\n",
    "            training_logits,\n",
    "            targets,\n",
    "            masks)\n",
    "\n",
    "        # Optimizer\n",
    "        optimizer = tf.train.AdamOptimizer(lr)\n",
    "\n",
    "        # Gradient Clipping\n",
    "        gradients = optimizer.compute_gradients(cost)\n",
    "        capped_gradients = [(tf.clip_by_value(grad, -1., 1.), var) for grad, var in gradients if grad is not None]\n",
    "        train_op = optimizer.apply_gradients(capped_gradients)\n"
   ]
  },
  {
   "cell_type": "markdown",
   "metadata": {},
   "source": [
    "Batch and pad the source and target sequences"
   ]
  },
  {
   "cell_type": "code",
   "execution_count": 160,
   "metadata": {},
   "outputs": [
    {
     "name": "stdout",
     "output_type": "stream",
     "text": [
      "done\n"
     ]
    }
   ],
   "source": [
    "\"\"\"\n",
    "DON'T MODIFY ANYTHING IN THIS CELL\n",
    "\"\"\"\n",
    "def pad_sentence_batch(sentence_batch, pad_int):\n",
    "    \"\"\"Pad sentences with <PAD> so that each sentence of a batch has the same length\"\"\"\n",
    "    max_sentence = max([len(sentence) for sentence in sentence_batch])\n",
    "    return [sentence + [pad_int] * (max_sentence - len(sentence)) for sentence in sentence_batch]\n",
    "\n",
    "\n",
    "def get_batches(sources, targets, batch_size, source_pad_int, target_pad_int):\n",
    "    \"\"\"Batch targets, sources, and the lengths of their sentences together\"\"\"\n",
    "    for batch_i in range(0, len(sources)//batch_size):\n",
    "        start_i = batch_i * batch_size\n",
    "\n",
    "        # Slice the right amount for the batch\n",
    "        sources_batch = sources[start_i:start_i + batch_size]\n",
    "        targets_batch = targets[start_i:start_i + batch_size]\n",
    "\n",
    "        # Pad\n",
    "        pad_sources_batch = np.array(pad_sentence_batch(sources_batch, source_pad_int))\n",
    "        pad_targets_batch = np.array(pad_sentence_batch(targets_batch, target_pad_int))\n",
    "\n",
    "        # Need the lengths for the _lengths parameters\n",
    "        pad_targets_lengths = []\n",
    "        for target in pad_targets_batch:\n",
    "            pad_targets_lengths.append(len(target))\n",
    "\n",
    "        pad_source_lengths = []\n",
    "        for source in pad_sources_batch:\n",
    "            pad_source_lengths.append(len(source))\n",
    "\n",
    "        yield pad_sources_batch, pad_targets_batch, pad_source_lengths, pad_targets_lengths\n",
    "print('done')"
   ]
  },
  {
   "cell_type": "markdown",
   "metadata": {},
   "source": [
    "### Train\n",
    "Train the neural network on the preprocessed data. If you have a hard time getting a good loss, check the forms to see if anyone is having the same problem."
   ]
  },
  {
   "cell_type": "code",
   "execution_count": 161,
   "metadata": {
    "scrolled": true
   },
   "outputs": [
    {
     "name": "stdout",
     "output_type": "stream",
     "text": [
      "starting session\n",
      "Epoch   0 Batch   20/538 - Train Accuracy: 0.3123, Validation Accuracy: 0.3587, Loss: 3.5597\n",
      "Epoch   0 Batch   40/538 - Train Accuracy: 0.4300, Validation Accuracy: 0.4370, Loss: 2.8791\n",
      "Epoch   0 Batch   60/538 - Train Accuracy: 0.4168, Validation Accuracy: 0.4698, Loss: 2.8819\n",
      "Epoch   0 Batch   80/538 - Train Accuracy: 0.4254, Validation Accuracy: 0.4803, Loss: 2.6998\n",
      "Epoch   0 Batch  100/538 - Train Accuracy: 0.4416, Validation Accuracy: 0.4883, Loss: 2.4840\n",
      "Epoch   0 Batch  120/538 - Train Accuracy: 0.4559, Validation Accuracy: 0.4996, Loss: 2.3107\n",
      "Epoch   0 Batch  140/538 - Train Accuracy: 0.4320, Validation Accuracy: 0.4931, Loss: 2.1633\n",
      "Epoch   0 Batch  160/538 - Train Accuracy: 0.4468, Validation Accuracy: 0.4830, Loss: 1.8790\n",
      "Epoch   0 Batch  180/538 - Train Accuracy: 0.4838, Validation Accuracy: 0.5043, Loss: 1.7583\n",
      "Epoch   0 Batch  200/538 - Train Accuracy: 0.4361, Validation Accuracy: 0.4787, Loss: 1.7090\n",
      "Epoch   0 Batch  220/538 - Train Accuracy: 0.4617, Validation Accuracy: 0.4883, Loss: 1.5693\n",
      "Epoch   0 Batch  240/538 - Train Accuracy: 0.4482, Validation Accuracy: 0.4787, Loss: 1.5428\n",
      "Epoch   0 Batch  260/538 - Train Accuracy: 0.4449, Validation Accuracy: 0.4801, Loss: 1.4297\n",
      "Epoch   0 Batch  280/538 - Train Accuracy: 0.4652, Validation Accuracy: 0.4840, Loss: 1.3202\n",
      "Epoch   0 Batch  300/538 - Train Accuracy: 0.4840, Validation Accuracy: 0.4869, Loss: 1.2558\n",
      "Epoch   0 Batch  320/538 - Train Accuracy: 0.4849, Validation Accuracy: 0.5050, Loss: 1.2305\n",
      "Epoch   0 Batch  340/538 - Train Accuracy: 0.4836, Validation Accuracy: 0.5401, Loss: 1.2399\n",
      "Epoch   0 Batch  360/538 - Train Accuracy: 0.5094, Validation Accuracy: 0.5570, Loss: 1.1838\n",
      "Epoch   0 Batch  380/538 - Train Accuracy: 0.5369, Validation Accuracy: 0.5632, Loss: 1.0907\n",
      "Epoch   0 Batch  400/538 - Train Accuracy: 0.5379, Validation Accuracy: 0.5584, Loss: 1.0497\n",
      "Epoch   0 Batch  420/538 - Train Accuracy: 0.5533, Validation Accuracy: 0.5639, Loss: 1.0225\n",
      "Epoch   0 Batch  440/538 - Train Accuracy: 0.5162, Validation Accuracy: 0.5559, Loss: 1.0442\n",
      "Epoch   0 Batch  460/538 - Train Accuracy: 0.5502, Validation Accuracy: 0.5602, Loss: 0.9404\n",
      "Epoch   0 Batch  480/538 - Train Accuracy: 0.5837, Validation Accuracy: 0.5772, Loss: 0.9111\n",
      "Epoch   0 Batch  500/538 - Train Accuracy: 0.5916, Validation Accuracy: 0.5746, Loss: 0.8369\n",
      "Epoch   0 Batch  520/538 - Train Accuracy: 0.5615, Validation Accuracy: 0.5882, Loss: 0.9102\n",
      "Epoch   1 Batch   20/538 - Train Accuracy: 0.5776, Validation Accuracy: 0.5987, Loss: 0.8347\n",
      "Epoch   1 Batch   40/538 - Train Accuracy: 0.6127, Validation Accuracy: 0.5938, Loss: 0.7621\n",
      "Epoch   1 Batch   60/538 - Train Accuracy: 0.5863, Validation Accuracy: 0.6005, Loss: 0.8075\n",
      "Epoch   1 Batch   80/538 - Train Accuracy: 0.5803, Validation Accuracy: 0.6101, Loss: 0.8424\n",
      "Epoch   1 Batch  100/538 - Train Accuracy: 0.5943, Validation Accuracy: 0.6096, Loss: 0.7879\n",
      "Epoch   1 Batch  120/538 - Train Accuracy: 0.6029, Validation Accuracy: 0.6175, Loss: 0.7672\n",
      "Epoch   1 Batch  140/538 - Train Accuracy: 0.5598, Validation Accuracy: 0.6016, Loss: 0.8199\n",
      "Epoch   1 Batch  160/538 - Train Accuracy: 0.6032, Validation Accuracy: 0.6207, Loss: 0.7228\n",
      "Epoch   1 Batch  180/538 - Train Accuracy: 0.6354, Validation Accuracy: 0.6252, Loss: 0.7277\n",
      "Epoch   1 Batch  200/538 - Train Accuracy: 0.6105, Validation Accuracy: 0.6156, Loss: 0.7227\n",
      "Epoch   1 Batch  220/538 - Train Accuracy: 0.5705, Validation Accuracy: 0.6129, Loss: 0.7050\n",
      "Epoch   1 Batch  240/538 - Train Accuracy: 0.5961, Validation Accuracy: 0.6211, Loss: 0.7318\n",
      "Epoch   1 Batch  260/538 - Train Accuracy: 0.6064, Validation Accuracy: 0.6229, Loss: 0.6990\n",
      "Epoch   1 Batch  280/538 - Train Accuracy: 0.6430, Validation Accuracy: 0.6305, Loss: 0.6515\n",
      "Epoch   1 Batch  300/538 - Train Accuracy: 0.6263, Validation Accuracy: 0.6321, Loss: 0.6580\n",
      "Epoch   1 Batch  320/538 - Train Accuracy: 0.6226, Validation Accuracy: 0.6332, Loss: 0.6590\n",
      "Epoch   1 Batch  340/538 - Train Accuracy: 0.6068, Validation Accuracy: 0.6257, Loss: 0.6889\n",
      "Epoch   1 Batch  360/538 - Train Accuracy: 0.6289, Validation Accuracy: 0.6365, Loss: 0.6713\n",
      "Epoch   1 Batch  380/538 - Train Accuracy: 0.6141, Validation Accuracy: 0.6412, Loss: 0.6421\n",
      "Epoch   1 Batch  400/538 - Train Accuracy: 0.6243, Validation Accuracy: 0.6326, Loss: 0.6319\n",
      "Epoch   1 Batch  420/538 - Train Accuracy: 0.6301, Validation Accuracy: 0.6460, Loss: 0.6326\n",
      "Epoch   1 Batch  440/538 - Train Accuracy: 0.6223, Validation Accuracy: 0.6420, Loss: 0.6584\n",
      "Epoch   1 Batch  460/538 - Train Accuracy: 0.6138, Validation Accuracy: 0.6449, Loss: 0.5955\n",
      "Epoch   1 Batch  480/538 - Train Accuracy: 0.6458, Validation Accuracy: 0.6454, Loss: 0.5926\n",
      "Epoch   1 Batch  500/538 - Train Accuracy: 0.6575, Validation Accuracy: 0.6534, Loss: 0.5569\n",
      "Epoch   1 Batch  520/538 - Train Accuracy: 0.6404, Validation Accuracy: 0.6495, Loss: 0.6134\n",
      "Epoch   2 Batch   20/538 - Train Accuracy: 0.6317, Validation Accuracy: 0.6580, Loss: 0.5817\n",
      "Epoch   2 Batch   40/538 - Train Accuracy: 0.6761, Validation Accuracy: 0.6515, Loss: 0.5079\n",
      "Epoch   2 Batch   60/538 - Train Accuracy: 0.6596, Validation Accuracy: 0.6625, Loss: 0.5582\n",
      "Epoch   2 Batch   80/538 - Train Accuracy: 0.6396, Validation Accuracy: 0.6651, Loss: 0.5873\n",
      "Epoch   2 Batch  100/538 - Train Accuracy: 0.6359, Validation Accuracy: 0.6634, Loss: 0.5457\n",
      "Epoch   2 Batch  120/538 - Train Accuracy: 0.6545, Validation Accuracy: 0.6637, Loss: 0.5323\n",
      "Epoch   2 Batch  140/538 - Train Accuracy: 0.6121, Validation Accuracy: 0.6593, Loss: 0.5812\n",
      "Epoch   2 Batch  160/538 - Train Accuracy: 0.6527, Validation Accuracy: 0.6728, Loss: 0.5152\n",
      "Epoch   2 Batch  180/538 - Train Accuracy: 0.7003, Validation Accuracy: 0.6642, Loss: 0.5106\n",
      "Epoch   2 Batch  200/538 - Train Accuracy: 0.6783, Validation Accuracy: 0.6776, Loss: 0.5146\n",
      "Epoch   2 Batch  220/538 - Train Accuracy: 0.6466, Validation Accuracy: 0.6662, Loss: 0.5020\n",
      "Epoch   2 Batch  240/538 - Train Accuracy: 0.6762, Validation Accuracy: 0.6827, Loss: 0.5218\n",
      "Epoch   2 Batch  260/538 - Train Accuracy: 0.6602, Validation Accuracy: 0.6816, Loss: 0.5100\n",
      "Epoch   2 Batch  280/538 - Train Accuracy: 0.7111, Validation Accuracy: 0.6896, Loss: 0.4707\n",
      "Epoch   2 Batch  300/538 - Train Accuracy: 0.6585, Validation Accuracy: 0.6886, Loss: 0.4886\n",
      "Epoch   2 Batch  320/538 - Train Accuracy: 0.6762, Validation Accuracy: 0.6955, Loss: 0.4820\n",
      "Epoch   2 Batch  340/538 - Train Accuracy: 0.6471, Validation Accuracy: 0.6974, Loss: 0.4906\n",
      "Epoch   2 Batch  360/538 - Train Accuracy: 0.6904, Validation Accuracy: 0.7189, Loss: 0.4837\n",
      "Epoch   2 Batch  380/538 - Train Accuracy: 0.6900, Validation Accuracy: 0.7111, Loss: 0.4536\n",
      "Epoch   2 Batch  400/538 - Train Accuracy: 0.6961, Validation Accuracy: 0.7148, Loss: 0.4517\n",
      "Epoch   2 Batch  420/538 - Train Accuracy: 0.7104, Validation Accuracy: 0.7045, Loss: 0.4582\n",
      "Epoch   2 Batch  440/538 - Train Accuracy: 0.7158, Validation Accuracy: 0.7163, Loss: 0.4738\n",
      "Epoch   2 Batch  460/538 - Train Accuracy: 0.6992, Validation Accuracy: 0.7132, Loss: 0.4332\n",
      "Epoch   2 Batch  480/538 - Train Accuracy: 0.7117, Validation Accuracy: 0.7193, Loss: 0.4297\n",
      "Epoch   2 Batch  500/538 - Train Accuracy: 0.7427, Validation Accuracy: 0.7253, Loss: 0.3925\n",
      "Epoch   2 Batch  520/538 - Train Accuracy: 0.6984, Validation Accuracy: 0.7136, Loss: 0.4464\n",
      "Epoch   3 Batch   20/538 - Train Accuracy: 0.7357, Validation Accuracy: 0.7241, Loss: 0.4244\n",
      "Epoch   3 Batch   40/538 - Train Accuracy: 0.7445, Validation Accuracy: 0.7239, Loss: 0.3772\n",
      "Epoch   3 Batch   60/538 - Train Accuracy: 0.7438, Validation Accuracy: 0.7186, Loss: 0.4098\n",
      "Epoch   3 Batch   80/538 - Train Accuracy: 0.7234, Validation Accuracy: 0.7365, Loss: 0.4254\n",
      "Epoch   3 Batch  100/538 - Train Accuracy: 0.7502, Validation Accuracy: 0.7425, Loss: 0.3904\n",
      "Epoch   3 Batch  120/538 - Train Accuracy: 0.7811, Validation Accuracy: 0.7505, Loss: 0.3790\n",
      "Epoch   3 Batch  140/538 - Train Accuracy: 0.7141, Validation Accuracy: 0.7546, Loss: 0.4167\n",
      "Epoch   3 Batch  160/538 - Train Accuracy: 0.7509, Validation Accuracy: 0.7585, Loss: 0.3712\n",
      "Epoch   3 Batch  180/538 - Train Accuracy: 0.7798, Validation Accuracy: 0.7550, Loss: 0.3570\n",
      "Epoch   3 Batch  200/538 - Train Accuracy: 0.7639, Validation Accuracy: 0.7679, Loss: 0.3593\n"
     ]
    },
    {
     "name": "stdout",
     "output_type": "stream",
     "text": [
      "Epoch   3 Batch  220/538 - Train Accuracy: 0.7561, Validation Accuracy: 0.7583, Loss: 0.3480\n",
      "Epoch   3 Batch  240/538 - Train Accuracy: 0.7631, Validation Accuracy: 0.7591, Loss: 0.3749\n",
      "Epoch   3 Batch  260/538 - Train Accuracy: 0.7446, Validation Accuracy: 0.7580, Loss: 0.3618\n",
      "Epoch   3 Batch  280/538 - Train Accuracy: 0.7887, Validation Accuracy: 0.7690, Loss: 0.3282\n",
      "Epoch   3 Batch  300/538 - Train Accuracy: 0.7733, Validation Accuracy: 0.7781, Loss: 0.3484\n",
      "Epoch   3 Batch  320/538 - Train Accuracy: 0.7608, Validation Accuracy: 0.7736, Loss: 0.3442\n",
      "Epoch   3 Batch  340/538 - Train Accuracy: 0.7650, Validation Accuracy: 0.7553, Loss: 0.3557\n",
      "Epoch   3 Batch  360/538 - Train Accuracy: 0.7629, Validation Accuracy: 0.7914, Loss: 0.3375\n",
      "Epoch   3 Batch  380/538 - Train Accuracy: 0.7877, Validation Accuracy: 0.7827, Loss: 0.3153\n",
      "Epoch   3 Batch  400/538 - Train Accuracy: 0.7965, Validation Accuracy: 0.7752, Loss: 0.3136\n",
      "Epoch   3 Batch  420/538 - Train Accuracy: 0.8123, Validation Accuracy: 0.7757, Loss: 0.3169\n",
      "Epoch   3 Batch  440/538 - Train Accuracy: 0.8000, Validation Accuracy: 0.7898, Loss: 0.3454\n",
      "Epoch   3 Batch  460/538 - Train Accuracy: 0.7783, Validation Accuracy: 0.7924, Loss: 0.3075\n",
      "Epoch   3 Batch  480/538 - Train Accuracy: 0.7958, Validation Accuracy: 0.7914, Loss: 0.3057\n",
      "Epoch   3 Batch  500/538 - Train Accuracy: 0.8462, Validation Accuracy: 0.7971, Loss: 0.2772\n",
      "Epoch   3 Batch  520/538 - Train Accuracy: 0.8037, Validation Accuracy: 0.7862, Loss: 0.3160\n",
      "Epoch   4 Batch   20/538 - Train Accuracy: 0.8127, Validation Accuracy: 0.7953, Loss: 0.3033\n",
      "Epoch   4 Batch   40/538 - Train Accuracy: 0.8162, Validation Accuracy: 0.7910, Loss: 0.2598\n",
      "Epoch   4 Batch   60/538 - Train Accuracy: 0.8268, Validation Accuracy: 0.7983, Loss: 0.2854\n",
      "Epoch   4 Batch   80/538 - Train Accuracy: 0.7916, Validation Accuracy: 0.7946, Loss: 0.2944\n",
      "Epoch   4 Batch  100/538 - Train Accuracy: 0.8236, Validation Accuracy: 0.7947, Loss: 0.2731\n",
      "Epoch   4 Batch  120/538 - Train Accuracy: 0.8279, Validation Accuracy: 0.7997, Loss: 0.2657\n",
      "Epoch   4 Batch  140/538 - Train Accuracy: 0.7951, Validation Accuracy: 0.8063, Loss: 0.3004\n",
      "Epoch   4 Batch  160/538 - Train Accuracy: 0.8140, Validation Accuracy: 0.7937, Loss: 0.2507\n",
      "Epoch   4 Batch  180/538 - Train Accuracy: 0.8307, Validation Accuracy: 0.8121, Loss: 0.2596\n",
      "Epoch   4 Batch  200/538 - Train Accuracy: 0.8273, Validation Accuracy: 0.8006, Loss: 0.2394\n",
      "Epoch   4 Batch  220/538 - Train Accuracy: 0.8402, Validation Accuracy: 0.8098, Loss: 0.2468\n",
      "Epoch   4 Batch  240/538 - Train Accuracy: 0.8281, Validation Accuracy: 0.8150, Loss: 0.2688\n",
      "Epoch   4 Batch  260/538 - Train Accuracy: 0.8086, Validation Accuracy: 0.8079, Loss: 0.2596\n",
      "Epoch   4 Batch  280/538 - Train Accuracy: 0.8477, Validation Accuracy: 0.8045, Loss: 0.2263\n",
      "Epoch   4 Batch  300/538 - Train Accuracy: 0.8255, Validation Accuracy: 0.8086, Loss: 0.2510\n",
      "Epoch   4 Batch  320/538 - Train Accuracy: 0.8129, Validation Accuracy: 0.8125, Loss: 0.2374\n",
      "Epoch   4 Batch  340/538 - Train Accuracy: 0.8354, Validation Accuracy: 0.8200, Loss: 0.2473\n",
      "Epoch   4 Batch  360/538 - Train Accuracy: 0.8158, Validation Accuracy: 0.8141, Loss: 0.2385\n",
      "Epoch   4 Batch  380/538 - Train Accuracy: 0.8479, Validation Accuracy: 0.8098, Loss: 0.2173\n",
      "Epoch   4 Batch  400/538 - Train Accuracy: 0.8430, Validation Accuracy: 0.8166, Loss: 0.2322\n",
      "Epoch   4 Batch  420/538 - Train Accuracy: 0.8627, Validation Accuracy: 0.8303, Loss: 0.2229\n",
      "Epoch   4 Batch  440/538 - Train Accuracy: 0.8416, Validation Accuracy: 0.8278, Loss: 0.2450\n",
      "Epoch   4 Batch  460/538 - Train Accuracy: 0.8419, Validation Accuracy: 0.8205, Loss: 0.2318\n",
      "Epoch   4 Batch  480/538 - Train Accuracy: 0.8531, Validation Accuracy: 0.8322, Loss: 0.2223\n",
      "Epoch   4 Batch  500/538 - Train Accuracy: 0.8816, Validation Accuracy: 0.8281, Loss: 0.1963\n",
      "Epoch   4 Batch  520/538 - Train Accuracy: 0.8584, Validation Accuracy: 0.8262, Loss: 0.2290\n",
      "Epoch   5 Batch   20/538 - Train Accuracy: 0.8687, Validation Accuracy: 0.8269, Loss: 0.2201\n",
      "Epoch   5 Batch   40/538 - Train Accuracy: 0.8491, Validation Accuracy: 0.8226, Loss: 0.1895\n",
      "Epoch   5 Batch   60/538 - Train Accuracy: 0.8857, Validation Accuracy: 0.8528, Loss: 0.2075\n",
      "Epoch   5 Batch   80/538 - Train Accuracy: 0.8559, Validation Accuracy: 0.8391, Loss: 0.2201\n",
      "Epoch   5 Batch  100/538 - Train Accuracy: 0.8742, Validation Accuracy: 0.8384, Loss: 0.2013\n",
      "Epoch   5 Batch  120/538 - Train Accuracy: 0.8885, Validation Accuracy: 0.8489, Loss: 0.1904\n",
      "Epoch   5 Batch  140/538 - Train Accuracy: 0.8545, Validation Accuracy: 0.8365, Loss: 0.2303\n",
      "Epoch   5 Batch  160/538 - Train Accuracy: 0.8661, Validation Accuracy: 0.8434, Loss: 0.1899\n",
      "Epoch   5 Batch  180/538 - Train Accuracy: 0.8752, Validation Accuracy: 0.8491, Loss: 0.1860\n",
      "Epoch   5 Batch  200/538 - Train Accuracy: 0.8746, Validation Accuracy: 0.8503, Loss: 0.1787\n",
      "Epoch   5 Batch  220/538 - Train Accuracy: 0.8663, Validation Accuracy: 0.8525, Loss: 0.1800\n",
      "Epoch   5 Batch  240/538 - Train Accuracy: 0.8828, Validation Accuracy: 0.8672, Loss: 0.1860\n",
      "Epoch   5 Batch  260/538 - Train Accuracy: 0.8307, Validation Accuracy: 0.8569, Loss: 0.1913\n",
      "Epoch   5 Batch  280/538 - Train Accuracy: 0.8997, Validation Accuracy: 0.8487, Loss: 0.1690\n",
      "Epoch   5 Batch  300/538 - Train Accuracy: 0.8785, Validation Accuracy: 0.8525, Loss: 0.1784\n",
      "Epoch   5 Batch  320/538 - Train Accuracy: 0.8826, Validation Accuracy: 0.8464, Loss: 0.1780\n",
      "Epoch   5 Batch  340/538 - Train Accuracy: 0.8691, Validation Accuracy: 0.8610, Loss: 0.1760\n",
      "Epoch   5 Batch  360/538 - Train Accuracy: 0.8805, Validation Accuracy: 0.8510, Loss: 0.1674\n",
      "Epoch   5 Batch  380/538 - Train Accuracy: 0.8721, Validation Accuracy: 0.8555, Loss: 0.1519\n",
      "Epoch   5 Batch  400/538 - Train Accuracy: 0.8884, Validation Accuracy: 0.8560, Loss: 0.1745\n",
      "Epoch   5 Batch  420/538 - Train Accuracy: 0.8885, Validation Accuracy: 0.8670, Loss: 0.1603\n",
      "Epoch   5 Batch  440/538 - Train Accuracy: 0.8623, Validation Accuracy: 0.8626, Loss: 0.1911\n",
      "Epoch   5 Batch  460/538 - Train Accuracy: 0.8899, Validation Accuracy: 0.8580, Loss: 0.1695\n",
      "Epoch   5 Batch  480/538 - Train Accuracy: 0.8845, Validation Accuracy: 0.8571, Loss: 0.1570\n",
      "Epoch   5 Batch  500/538 - Train Accuracy: 0.8995, Validation Accuracy: 0.8770, Loss: 0.1408\n",
      "Epoch   5 Batch  520/538 - Train Accuracy: 0.8885, Validation Accuracy: 0.8830, Loss: 0.1682\n",
      "Epoch   6 Batch   20/538 - Train Accuracy: 0.9016, Validation Accuracy: 0.8793, Loss: 0.1553\n",
      "Epoch   6 Batch   40/538 - Train Accuracy: 0.8972, Validation Accuracy: 0.8773, Loss: 0.1306\n",
      "Epoch   6 Batch   60/538 - Train Accuracy: 0.9082, Validation Accuracy: 0.8732, Loss: 0.1508\n",
      "Epoch   6 Batch   80/538 - Train Accuracy: 0.8875, Validation Accuracy: 0.8681, Loss: 0.1508\n",
      "Epoch   6 Batch  100/538 - Train Accuracy: 0.9225, Validation Accuracy: 0.8890, Loss: 0.1368\n",
      "Epoch   6 Batch  120/538 - Train Accuracy: 0.9111, Validation Accuracy: 0.8775, Loss: 0.1223\n",
      "Epoch   6 Batch  140/538 - Train Accuracy: 0.8893, Validation Accuracy: 0.8871, Loss: 0.1683\n",
      "Epoch   6 Batch  160/538 - Train Accuracy: 0.8901, Validation Accuracy: 0.8684, Loss: 0.1415\n",
      "Epoch   6 Batch  180/538 - Train Accuracy: 0.8956, Validation Accuracy: 0.8819, Loss: 0.1469\n",
      "Epoch   6 Batch  200/538 - Train Accuracy: 0.9059, Validation Accuracy: 0.8837, Loss: 0.1272\n",
      "Epoch   6 Batch  220/538 - Train Accuracy: 0.8919, Validation Accuracy: 0.8867, Loss: 0.1338\n",
      "Epoch   6 Batch  240/538 - Train Accuracy: 0.9031, Validation Accuracy: 0.8960, Loss: 0.1498\n",
      "Epoch   6 Batch  260/538 - Train Accuracy: 0.8711, Validation Accuracy: 0.8746, Loss: 0.1480\n",
      "Epoch   6 Batch  280/538 - Train Accuracy: 0.9198, Validation Accuracy: 0.8757, Loss: 0.1168\n",
      "Epoch   6 Batch  300/538 - Train Accuracy: 0.8940, Validation Accuracy: 0.8952, Loss: 0.1322\n",
      "Epoch   6 Batch  320/538 - Train Accuracy: 0.8912, Validation Accuracy: 0.8999, Loss: 0.1331\n",
      "Epoch   6 Batch  340/538 - Train Accuracy: 0.8898, Validation Accuracy: 0.8935, Loss: 0.1292\n",
      "Epoch   6 Batch  360/538 - Train Accuracy: 0.9002, Validation Accuracy: 0.8807, Loss: 0.1240\n",
      "Epoch   6 Batch  380/538 - Train Accuracy: 0.9172, Validation Accuracy: 0.8725, Loss: 0.1176\n",
      "Epoch   6 Batch  400/538 - Train Accuracy: 0.9193, Validation Accuracy: 0.9061, Loss: 0.1303\n",
      "Epoch   6 Batch  420/538 - Train Accuracy: 0.9174, Validation Accuracy: 0.8933, Loss: 0.1208\n"
     ]
    },
    {
     "name": "stdout",
     "output_type": "stream",
     "text": [
      "Epoch   6 Batch  440/538 - Train Accuracy: 0.8951, Validation Accuracy: 0.9047, Loss: 0.1387\n",
      "Epoch   6 Batch  460/538 - Train Accuracy: 0.8992, Validation Accuracy: 0.8915, Loss: 0.1244\n",
      "Epoch   6 Batch  480/538 - Train Accuracy: 0.9126, Validation Accuracy: 0.8999, Loss: 0.1164\n",
      "Epoch   6 Batch  500/538 - Train Accuracy: 0.9078, Validation Accuracy: 0.9064, Loss: 0.1008\n",
      "Epoch   6 Batch  520/538 - Train Accuracy: 0.9078, Validation Accuracy: 0.9096, Loss: 0.1245\n",
      "Epoch   7 Batch   20/538 - Train Accuracy: 0.9133, Validation Accuracy: 0.9002, Loss: 0.1308\n",
      "Epoch   7 Batch   40/538 - Train Accuracy: 0.9093, Validation Accuracy: 0.8954, Loss: 0.1051\n",
      "Epoch   7 Batch   60/538 - Train Accuracy: 0.9182, Validation Accuracy: 0.9150, Loss: 0.1088\n",
      "Epoch   7 Batch   80/538 - Train Accuracy: 0.9094, Validation Accuracy: 0.9011, Loss: 0.1182\n",
      "Epoch   7 Batch  100/538 - Train Accuracy: 0.9318, Validation Accuracy: 0.9029, Loss: 0.1048\n",
      "Epoch   7 Batch  120/538 - Train Accuracy: 0.9316, Validation Accuracy: 0.9107, Loss: 0.1043\n",
      "Epoch   7 Batch  140/538 - Train Accuracy: 0.9000, Validation Accuracy: 0.9036, Loss: 0.1332\n",
      "Epoch   7 Batch  160/538 - Train Accuracy: 0.9074, Validation Accuracy: 0.9084, Loss: 0.1023\n",
      "Epoch   7 Batch  180/538 - Train Accuracy: 0.9206, Validation Accuracy: 0.9055, Loss: 0.1051\n",
      "Epoch   7 Batch  200/538 - Train Accuracy: 0.9313, Validation Accuracy: 0.9041, Loss: 0.0980\n",
      "Epoch   7 Batch  220/538 - Train Accuracy: 0.9196, Validation Accuracy: 0.9062, Loss: 0.0996\n",
      "Epoch   7 Batch  240/538 - Train Accuracy: 0.9115, Validation Accuracy: 0.9089, Loss: 0.1202\n",
      "Epoch   7 Batch  260/538 - Train Accuracy: 0.8802, Validation Accuracy: 0.8963, Loss: 0.1167\n",
      "Epoch   7 Batch  280/538 - Train Accuracy: 0.9418, Validation Accuracy: 0.9132, Loss: 0.0912\n",
      "Epoch   7 Batch  300/538 - Train Accuracy: 0.9003, Validation Accuracy: 0.9110, Loss: 0.1025\n",
      "Epoch   7 Batch  320/538 - Train Accuracy: 0.9286, Validation Accuracy: 0.9082, Loss: 0.1012\n",
      "Epoch   7 Batch  340/538 - Train Accuracy: 0.8918, Validation Accuracy: 0.9178, Loss: 0.1092\n",
      "Epoch   7 Batch  360/538 - Train Accuracy: 0.9090, Validation Accuracy: 0.9082, Loss: 0.1005\n",
      "Epoch   7 Batch  380/538 - Train Accuracy: 0.9281, Validation Accuracy: 0.9109, Loss: 0.0999\n",
      "Epoch   7 Batch  400/538 - Train Accuracy: 0.9306, Validation Accuracy: 0.9102, Loss: 0.1007\n",
      "Epoch   7 Batch  420/538 - Train Accuracy: 0.9414, Validation Accuracy: 0.9098, Loss: 0.0993\n",
      "Epoch   7 Batch  440/538 - Train Accuracy: 0.9129, Validation Accuracy: 0.9164, Loss: 0.1054\n",
      "Epoch   7 Batch  460/538 - Train Accuracy: 0.9007, Validation Accuracy: 0.9109, Loss: 0.1021\n",
      "Epoch   7 Batch  480/538 - Train Accuracy: 0.9353, Validation Accuracy: 0.9018, Loss: 0.0945\n",
      "Epoch   7 Batch  500/538 - Train Accuracy: 0.9322, Validation Accuracy: 0.9107, Loss: 0.0780\n",
      "Epoch   7 Batch  520/538 - Train Accuracy: 0.9320, Validation Accuracy: 0.9096, Loss: 0.0957\n",
      "Epoch   8 Batch   20/538 - Train Accuracy: 0.9089, Validation Accuracy: 0.8924, Loss: 0.0987\n",
      "Epoch   8 Batch   40/538 - Train Accuracy: 0.9100, Validation Accuracy: 0.9020, Loss: 0.0810\n",
      "Epoch   8 Batch   60/538 - Train Accuracy: 0.9262, Validation Accuracy: 0.9203, Loss: 0.0926\n",
      "Epoch   8 Batch   80/538 - Train Accuracy: 0.9189, Validation Accuracy: 0.9029, Loss: 0.0964\n",
      "Epoch   8 Batch  100/538 - Train Accuracy: 0.9361, Validation Accuracy: 0.9205, Loss: 0.0841\n",
      "Epoch   8 Batch  120/538 - Train Accuracy: 0.9490, Validation Accuracy: 0.9197, Loss: 0.0752\n",
      "Epoch   8 Batch  140/538 - Train Accuracy: 0.9057, Validation Accuracy: 0.9237, Loss: 0.1089\n",
      "Epoch   8 Batch  160/538 - Train Accuracy: 0.9262, Validation Accuracy: 0.9062, Loss: 0.0807\n",
      "Epoch   8 Batch  180/538 - Train Accuracy: 0.9420, Validation Accuracy: 0.9093, Loss: 0.0953\n",
      "Epoch   8 Batch  200/538 - Train Accuracy: 0.9396, Validation Accuracy: 0.9222, Loss: 0.0765\n",
      "Epoch   8 Batch  220/538 - Train Accuracy: 0.9219, Validation Accuracy: 0.9268, Loss: 0.0778\n",
      "Epoch   8 Batch  240/538 - Train Accuracy: 0.9156, Validation Accuracy: 0.9268, Loss: 0.0977\n",
      "Epoch   8 Batch  260/538 - Train Accuracy: 0.9003, Validation Accuracy: 0.9244, Loss: 0.0946\n",
      "Epoch   8 Batch  280/538 - Train Accuracy: 0.9487, Validation Accuracy: 0.9135, Loss: 0.0793\n",
      "Epoch   8 Batch  300/538 - Train Accuracy: 0.9107, Validation Accuracy: 0.9308, Loss: 0.0923\n",
      "Epoch   8 Batch  320/538 - Train Accuracy: 0.9328, Validation Accuracy: 0.9153, Loss: 0.0815\n",
      "Epoch   8 Batch  340/538 - Train Accuracy: 0.9158, Validation Accuracy: 0.9270, Loss: 0.0884\n",
      "Epoch   8 Batch  360/538 - Train Accuracy: 0.9299, Validation Accuracy: 0.9245, Loss: 0.0874\n",
      "Epoch   8 Batch  380/538 - Train Accuracy: 0.9430, Validation Accuracy: 0.9197, Loss: 0.0759\n",
      "Epoch   8 Batch  400/538 - Train Accuracy: 0.9392, Validation Accuracy: 0.9210, Loss: 0.0793\n",
      "Epoch   8 Batch  420/538 - Train Accuracy: 0.9375, Validation Accuracy: 0.9261, Loss: 0.0847\n",
      "Epoch   8 Batch  440/538 - Train Accuracy: 0.9244, Validation Accuracy: 0.9267, Loss: 0.0894\n",
      "Epoch   8 Batch  460/538 - Train Accuracy: 0.9163, Validation Accuracy: 0.9226, Loss: 0.0864\n",
      "Epoch   8 Batch  480/538 - Train Accuracy: 0.9446, Validation Accuracy: 0.9382, Loss: 0.0752\n",
      "Epoch   8 Batch  500/538 - Train Accuracy: 0.9435, Validation Accuracy: 0.9228, Loss: 0.0773\n",
      "Epoch   8 Batch  520/538 - Train Accuracy: 0.9322, Validation Accuracy: 0.9320, Loss: 0.0842\n",
      "Epoch   9 Batch   20/538 - Train Accuracy: 0.9394, Validation Accuracy: 0.9276, Loss: 0.0861\n",
      "Epoch   9 Batch   40/538 - Train Accuracy: 0.9357, Validation Accuracy: 0.9379, Loss: 0.0707\n",
      "Epoch   9 Batch   60/538 - Train Accuracy: 0.9295, Validation Accuracy: 0.9237, Loss: 0.0756\n",
      "Epoch   9 Batch   80/538 - Train Accuracy: 0.9338, Validation Accuracy: 0.9210, Loss: 0.0803\n",
      "Epoch   9 Batch  100/538 - Train Accuracy: 0.9479, Validation Accuracy: 0.9222, Loss: 0.0666\n",
      "Epoch   9 Batch  120/538 - Train Accuracy: 0.9459, Validation Accuracy: 0.9336, Loss: 0.0645\n",
      "Epoch   9 Batch  140/538 - Train Accuracy: 0.9152, Validation Accuracy: 0.9164, Loss: 0.0929\n",
      "Epoch   9 Batch  160/538 - Train Accuracy: 0.9278, Validation Accuracy: 0.9396, Loss: 0.0723\n",
      "Epoch   9 Batch  180/538 - Train Accuracy: 0.9386, Validation Accuracy: 0.9446, Loss: 0.0758\n",
      "Epoch   9 Batch  200/538 - Train Accuracy: 0.9490, Validation Accuracy: 0.9290, Loss: 0.0673\n",
      "Epoch   9 Batch  220/538 - Train Accuracy: 0.9269, Validation Accuracy: 0.9272, Loss: 0.0725\n",
      "Epoch   9 Batch  240/538 - Train Accuracy: 0.9277, Validation Accuracy: 0.9212, Loss: 0.0772\n",
      "Epoch   9 Batch  260/538 - Train Accuracy: 0.9196, Validation Accuracy: 0.9300, Loss: 0.0842\n",
      "Epoch   9 Batch  280/538 - Train Accuracy: 0.9390, Validation Accuracy: 0.9370, Loss: 0.0661\n",
      "Epoch   9 Batch  300/538 - Train Accuracy: 0.9170, Validation Accuracy: 0.9290, Loss: 0.0811\n",
      "Epoch   9 Batch  320/538 - Train Accuracy: 0.9531, Validation Accuracy: 0.9458, Loss: 0.0650\n",
      "Epoch   9 Batch  340/538 - Train Accuracy: 0.9275, Validation Accuracy: 0.9405, Loss: 0.0801\n",
      "Epoch   9 Batch  360/538 - Train Accuracy: 0.9295, Validation Accuracy: 0.9352, Loss: 0.0721\n",
      "Epoch   9 Batch  380/538 - Train Accuracy: 0.9531, Validation Accuracy: 0.9325, Loss: 0.0730\n",
      "Epoch   9 Batch  400/538 - Train Accuracy: 0.9548, Validation Accuracy: 0.9402, Loss: 0.0751\n",
      "Epoch   9 Batch  420/538 - Train Accuracy: 0.9469, Validation Accuracy: 0.9350, Loss: 0.0640\n",
      "Epoch   9 Batch  440/538 - Train Accuracy: 0.9316, Validation Accuracy: 0.9242, Loss: 0.0796\n",
      "Epoch   9 Batch  460/538 - Train Accuracy: 0.9230, Validation Accuracy: 0.9308, Loss: 0.0807\n",
      "Epoch   9 Batch  480/538 - Train Accuracy: 0.9384, Validation Accuracy: 0.9393, Loss: 0.0777\n",
      "Epoch   9 Batch  500/538 - Train Accuracy: 0.9522, Validation Accuracy: 0.9409, Loss: 0.0632\n",
      "Epoch   9 Batch  520/538 - Train Accuracy: 0.9465, Validation Accuracy: 0.9444, Loss: 0.0715\n",
      "Model Trained and Saved\n"
     ]
    }
   ],
   "source": [
    "\"\"\"\n",
    "DON'T MODIFY ANYTHING IN THIS CELL\n",
    "\"\"\"\n",
    "def get_accuracy(target, logits):\n",
    "    \"\"\"\n",
    "    Calculate accuracy\n",
    "    \"\"\"\n",
    "    max_seq = max(target.shape[1], logits.shape[1])\n",
    "    if max_seq - target.shape[1]:\n",
    "        target = np.pad(\n",
    "            target,\n",
    "            [(0,0),(0,max_seq - target.shape[1])],\n",
    "            'constant')\n",
    "    if max_seq - logits.shape[1]:\n",
    "        logits = np.pad(\n",
    "            logits,\n",
    "            [(0,0),(0,max_seq - logits.shape[1])],\n",
    "            'constant')\n",
    "\n",
    "    return np.mean(np.equal(target, logits))\n",
    "\n",
    "# Split data to training and validation sets\n",
    "train_source = source_int_text[batch_size:]\n",
    "train_target = target_int_text[batch_size:]\n",
    "valid_source = source_int_text[:batch_size]\n",
    "valid_target = target_int_text[:batch_size]\n",
    "(valid_sources_batch, valid_targets_batch, valid_sources_lengths, valid_targets_lengths ) = next(get_batches(valid_source,\n",
    "                                                                                                             valid_target,\n",
    "                                                                                                             batch_size,\n",
    "                                                                                                             source_vocab_to_int['<PAD>'],\n",
    "                                                                                                             target_vocab_to_int['<PAD>']))                                                                                                  \n",
    "with tf.Session(graph=train_graph) as sess:\n",
    "    print('starting session')\n",
    "    sess.run(tf.global_variables_initializer())\n",
    "\n",
    "    for epoch_i in range(epochs):\n",
    "        for batch_i, (source_batch, target_batch, sources_lengths, targets_lengths) in enumerate(\n",
    "                get_batches(train_source, train_target, batch_size,\n",
    "                            source_vocab_to_int['<PAD>'],\n",
    "                            target_vocab_to_int['<PAD>'])):\n",
    "\n",
    "            _, loss = sess.run(\n",
    "                [train_op, cost],\n",
    "                {input_data: source_batch,\n",
    "                 targets: target_batch,\n",
    "                 lr: learning_rate,\n",
    "                 target_sequence_length: targets_lengths,\n",
    "                 source_sequence_length: sources_lengths,\n",
    "                 keep_prob: keep_probability})\n",
    "\n",
    "\n",
    "            if batch_i % display_step == 0 and batch_i > 0:\n",
    "\n",
    "\n",
    "                batch_train_logits = sess.run(\n",
    "                    inference_logits,\n",
    "                    {input_data: source_batch,\n",
    "                     source_sequence_length: sources_lengths,\n",
    "                     target_sequence_length: targets_lengths,\n",
    "                     keep_prob: 1.0})\n",
    "\n",
    "\n",
    "                batch_valid_logits = sess.run(\n",
    "                    inference_logits,\n",
    "                    {input_data: valid_sources_batch,\n",
    "                     source_sequence_length: valid_sources_lengths,\n",
    "                     target_sequence_length: valid_targets_lengths,\n",
    "                     keep_prob: 1.0})\n",
    "\n",
    "                train_acc = get_accuracy(target_batch, batch_train_logits)\n",
    "\n",
    "                valid_acc = get_accuracy(valid_targets_batch, batch_valid_logits)\n",
    "\n",
    "                print('Epoch {:>3} Batch {:>4}/{} - Train Accuracy: {:>6.4f}, Validation Accuracy: {:>6.4f}, Loss: {:>6.4f}'\n",
    "                      .format(epoch_i, batch_i, len(source_int_text) // batch_size, train_acc, valid_acc, loss))\n",
    "\n",
    "    # Save Model\n",
    "    saver = tf.train.Saver()\n",
    "    saver.save(sess, save_path)\n",
    "    print('Model Trained and Saved')"
   ]
  },
  {
   "cell_type": "markdown",
   "metadata": {},
   "source": [
    "### Save Parameters\n",
    "Save the `batch_size` and `save_path` parameters for inference."
   ]
  },
  {
   "cell_type": "code",
   "execution_count": 162,
   "metadata": {
    "collapsed": true
   },
   "outputs": [],
   "source": [
    "\"\"\"\n",
    "DON'T MODIFY ANYTHING IN THIS CELL\n",
    "\"\"\"\n",
    "# Save parameters for checkpoint\n",
    "helper.save_params(save_path)"
   ]
  },
  {
   "cell_type": "markdown",
   "metadata": {},
   "source": [
    "# Checkpoint"
   ]
  },
  {
   "cell_type": "code",
   "execution_count": 163,
   "metadata": {
    "collapsed": true
   },
   "outputs": [],
   "source": [
    "\"\"\"\n",
    "DON'T MODIFY ANYTHING IN THIS CELL\n",
    "\"\"\"\n",
    "import tensorflow as tf\n",
    "import numpy as np\n",
    "import helper\n",
    "import problem_unittests as tests\n",
    "\n",
    "_, (source_vocab_to_int, target_vocab_to_int), (source_int_to_vocab, target_int_to_vocab) = helper.load_preprocess()\n",
    "load_path = helper.load_params()"
   ]
  },
  {
   "cell_type": "markdown",
   "metadata": {},
   "source": [
    "## Sentence to Sequence\n",
    "To feed a sentence into the model for translation, you first need to preprocess it.  Implement the function `sentence_to_seq()` to preprocess new sentences.\n",
    "\n",
    "- Convert the sentence to lowercase\n",
    "- Convert words into ids using `vocab_to_int`\n",
    " - Convert words not in the vocabulary, to the `<UNK>` word id."
   ]
  },
  {
   "cell_type": "code",
   "execution_count": 168,
   "metadata": {},
   "outputs": [
    {
     "name": "stdout",
     "output_type": "stream",
     "text": [
      "Tests Passed\n"
     ]
    }
   ],
   "source": [
    "def sentence_to_seq(sentence, vocab_to_int):\n",
    "    \"\"\"\n",
    "    Convert a sentence to a sequence of ids\n",
    "    :param sentence: String\n",
    "    :param vocab_to_int: Dictionary to go from the words to an id\n",
    "    :return: List of word ids\n",
    "    \"\"\"\n",
    "    sentence = sentence.lower()\n",
    "    word_ids = []\n",
    "    for word in sentence.split():\n",
    "        \n",
    "        if word in vocab_to_int:\n",
    "            word_ids.append( vocab_to_int[word] )\n",
    "        else:\n",
    "            word_ids.append( vocab_to_int['<UNK>'] )\n",
    "    \n",
    "    return word_ids\n",
    "\n",
    "\n",
    "\"\"\"\n",
    "DON'T MODIFY ANYTHING IN THIS CELL THAT IS BELOW THIS LINE\n",
    "\"\"\"\n",
    "tests.test_sentence_to_seq(sentence_to_seq)"
   ]
  },
  {
   "cell_type": "markdown",
   "metadata": {},
   "source": [
    "## Translate\n",
    "This will translate `translate_sentence` from English to French."
   ]
  },
  {
   "cell_type": "code",
   "execution_count": 173,
   "metadata": {},
   "outputs": [
    {
     "name": "stdout",
     "output_type": "stream",
     "text": [
      "INFO:tensorflow:Restoring parameters from checkpoints/dev\n",
      "Input\n",
      "  Word Ids:      [209, 69, 138, 7, 139, 2]\n",
      "  English Words: ['he', 'saw', 'a', 'old', 'yellow', '<UNK>']\n",
      "\n",
      "Prediction\n",
      "  Word Ids:      [113, 241, 182, 233, 317, 250, 256, 1]\n",
      "  French Words: il a vu un vieux camion . <EOS>\n"
     ]
    }
   ],
   "source": [
    "translate_sentence = 'he saw a old yellow truck.'\n",
    "\n",
    "\n",
    "\"\"\"\n",
    "DON'T MODIFY ANYTHING IN THIS CELL\n",
    "\"\"\"\n",
    "translate_sentence = sentence_to_seq(translate_sentence, source_vocab_to_int)\n",
    "\n",
    "loaded_graph = tf.Graph()\n",
    "with tf.Session(graph=loaded_graph) as sess:\n",
    "    # Load saved model\n",
    "    loader = tf.train.import_meta_graph(load_path + '.meta')\n",
    "    loader.restore(sess, load_path)\n",
    "\n",
    "    input_data = loaded_graph.get_tensor_by_name('input:0')\n",
    "    logits = loaded_graph.get_tensor_by_name('predictions:0')\n",
    "    target_sequence_length = loaded_graph.get_tensor_by_name('target_sequence_length:0')\n",
    "    source_sequence_length = loaded_graph.get_tensor_by_name('source_sequence_length:0')\n",
    "    keep_prob = loaded_graph.get_tensor_by_name('keep_prob:0')\n",
    "\n",
    "    translate_logits = sess.run(logits, {input_data: [translate_sentence]*batch_size,\n",
    "                                         target_sequence_length: [len(translate_sentence)*2]*batch_size,\n",
    "                                         source_sequence_length: [len(translate_sentence)]*batch_size,\n",
    "                                         keep_prob: 1.0})[0]\n",
    "\n",
    "print('Input')\n",
    "print('  Word Ids:      {}'.format([i for i in translate_sentence]))\n",
    "print('  English Words: {}'.format([source_int_to_vocab[i] for i in translate_sentence]))\n",
    "\n",
    "print('\\nPrediction')\n",
    "print('  Word Ids:      {}'.format([i for i in translate_logits]))\n",
    "print('  French Words: {}'.format(\" \".join([target_int_to_vocab[i] for i in translate_logits])))\n"
   ]
  },
  {
   "cell_type": "markdown",
   "metadata": {},
   "source": [
    "## Imperfect Translation\n",
    "You might notice that some sentences translate better than others.  Since the dataset you're using only has a vocabulary of 227 English words of the thousands that you use, you're only going to see good results using these words.  For this project, you don't need a perfect translation. However, if you want to create a better translation model, you'll need better data.\n",
    "\n",
    "You can train on the [WMT10 French-English corpus](http://www.statmt.org/wmt10/training-giga-fren.tar).  This dataset has more vocabulary and richer in topics discussed.  However, this will take you days to train, so make sure you've a GPU and the neural network is performing well on dataset we provided.  Just make sure you play with the WMT10 corpus after you've submitted this project.\n",
    "## Submitting This Project\n",
    "When submitting this project, make sure to run all the cells before saving the notebook. Save the notebook file as \"dlnd_language_translation.ipynb\" and save it as a HTML file under \"File\" -> \"Download as\". Include the \"helper.py\" and \"problem_unittests.py\" files in your submission."
   ]
  },
  {
   "cell_type": "code",
   "execution_count": null,
   "metadata": {
    "collapsed": true
   },
   "outputs": [],
   "source": []
  }
 ],
 "metadata": {
  "anaconda-cloud": {},
  "kernelspec": {
   "display_name": "Python 3",
   "language": "python",
   "name": "python3"
  },
  "language_info": {
   "codemirror_mode": {
    "name": "ipython",
    "version": 3
   },
   "file_extension": ".py",
   "mimetype": "text/x-python",
   "name": "python",
   "nbconvert_exporter": "python",
   "pygments_lexer": "ipython3",
   "version": "3.5.2"
  }
 },
 "nbformat": 4,
 "nbformat_minor": 1
}
